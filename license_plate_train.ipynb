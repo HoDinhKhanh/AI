{
  "nbformat": 4,
  "nbformat_minor": 0,
  "metadata": {
    "colab": {
      "provenance": [],
      "gpuType": "T4",
      "authorship_tag": "ABX9TyOFbvOgWwqqANJeNdM9EszD",
      "include_colab_link": true
    },
    "kernelspec": {
      "name": "python3",
      "display_name": "Python 3"
    },
    "language_info": {
      "name": "python"
    },
    "accelerator": "GPU",
    "gpuClass": "standard"
  },
  "cells": [
    {
      "cell_type": "markdown",
      "metadata": {
        "id": "view-in-github",
        "colab_type": "text"
      },
      "source": [
        "<a href=\"https://colab.research.google.com/github/HoDinhKhanh/AI/blob/main/license_plate_train.ipynb\" target=\"_parent\"><img src=\"https://colab.research.google.com/assets/colab-badge.svg\" alt=\"Open In Colab\"/></a>"
      ]
    },
    {
      "cell_type": "code",
      "execution_count": null,
      "metadata": {
        "colab": {
          "base_uri": "https://localhost:8080/"
        },
        "id": "lpIoNrG4Swcv",
        "outputId": "e9736be2-43a0-40ea-9def-bdaf74d70547"
      },
      "outputs": [
        {
          "output_type": "stream",
          "name": "stdout",
          "text": [
            "Mounted at /content/drive\n"
          ]
        }
      ],
      "source": [
        "from google.colab import drive\n",
        "drive.mount('/content/drive')"
      ]
    },
    {
      "cell_type": "code",
      "source": [
        "from os import listdir\n",
        "from numpy import asarray\n",
        "from numpy import save\n",
        "from keras.utils.image_utils import img_to_array\n",
        "from keras.utils import load_img"
      ],
      "metadata": {
        "id": "hBkvrMZoTLTP"
      },
      "execution_count": null,
      "outputs": []
    },
    {
      "cell_type": "code",
      "source": [
        "folder = '/content/drive/MyDrive/final/license_plate/'\n",
        "photos, labels = list(), list()\n",
        "for file in listdir(folder):\n",
        "  output = 0.0\n",
        "  if file.startswith('license_plate'):\n",
        "    output = 1.0  #'xe máy'\n",
        "  if file.startswith('license_plate_car'):\n",
        "    output = 2.0  #'xe hơi'\n",
        "  photo = load_img (folder+file, target_size= (64,64))\n",
        "  photo = img_to_array (photo)\n",
        "  photos.append(photo)\n",
        "  labels.append(output)\n",
        "photos = asarray(photos)\n",
        "labels = asarray(labels)\n",
        "save('/content/drive/MyDrive/final/license_plate_photo.npy', photos)\n",
        "save('/content/drive/MyDrive/final/license_plate_label.npy', labels)"
      ],
      "metadata": {
        "id": "VUL2PuvmTOsc"
      },
      "execution_count": null,
      "outputs": []
    },
    {
      "cell_type": "code",
      "source": [
        "import numpy as np\n",
        "import pandas as pd\n",
        "import matplotlib.pyplot as plt\n",
        "import seaborn as sns"
      ],
      "metadata": {
        "id": "Z0kzBZ9gTt03"
      },
      "execution_count": null,
      "outputs": []
    },
    {
      "cell_type": "code",
      "source": [
        "#load lại giá trị mới \n",
        "photo = np.load('/content/drive/MyDrive/final/license_plate_photo.npy')\n",
        "label = np.load('/content/drive/MyDrive/final/license_plate_label.npy')"
      ],
      "metadata": {
        "id": "IGaXbjzoTv2Z"
      },
      "execution_count": null,
      "outputs": []
    },
    {
      "cell_type": "code",
      "source": [
        "split_index = int(0.2*len(photo))\n",
        "test_X,test_Y = photo[:split_index],label[:split_index]\n",
        "train_X, train_Y = photo[split_index:],label[split_index:]"
      ],
      "metadata": {
        "id": "N7cQILVUT40k"
      },
      "execution_count": null,
      "outputs": []
    },
    {
      "cell_type": "code",
      "source": [
        "print('Train:',train_X.shape)\n",
        "print('Test:',test_X.shape)"
      ],
      "metadata": {
        "colab": {
          "base_uri": "https://localhost:8080/"
        },
        "id": "JaGb5KwVT4t8",
        "outputId": "4747c20c-2f69-4336-c14f-0a5bc52d0e28"
      },
      "execution_count": null,
      "outputs": [
        {
          "output_type": "stream",
          "name": "stdout",
          "text": [
            "Train: (160, 64, 64, 3)\n",
            "Test: (40, 64, 64, 3)\n"
          ]
        }
      ]
    },
    {
      "cell_type": "code",
      "source": [
        "train_X = train_X.reshape((160,64,64,3))\n",
        "train_X = train_X.astype('float32')/255\n",
        "test_X = test_X.reshape((40,64,64,3))\n",
        "test_X = test_X.astype('float32')/255"
      ],
      "metadata": {
        "id": "t2Lqrrg4T9PE"
      },
      "execution_count": null,
      "outputs": []
    },
    {
      "cell_type": "code",
      "source": [
        "from keras.utils import to_categorical\n",
        "\n",
        "train_Y = to_categorical(train_Y,3)\n",
        "test_Y = to_categorical(test_Y,3)"
      ],
      "metadata": {
        "id": "mrl_JcyoUERS"
      },
      "execution_count": null,
      "outputs": []
    },
    {
      "cell_type": "code",
      "source": [
        "from keras.models import Sequential\n",
        "from keras.models import Sequential, Model\n",
        "from keras.layers import Dense, Flatten, Dropout, Conv2D, MaxPooling2D, Normalization\n",
        "from keras.optimizers import Adam\n",
        "from keras.layers import LeakyReLU"
      ],
      "metadata": {
        "id": "OL059yfuUInq"
      },
      "execution_count": null,
      "outputs": []
    },
    {
      "cell_type": "code",
      "source": [
        "batch_size = 10\n",
        "epochs = 100\n",
        "classes = 3"
      ],
      "metadata": {
        "id": "F1kBN0yQUK0B"
      },
      "execution_count": null,
      "outputs": []
    },
    {
      "cell_type": "code",
      "source": [
        "model = Sequential()\n",
        "model.add(Conv2D(32, kernel_size= (3,3), activation= 'linear', input_shape= (64,64,3), padding= 'same'))\n",
        "model.add(LeakyReLU(alpha= 0.1))\n",
        "model.add(MaxPooling2D((2,2), padding= 'same'))\n",
        "\n",
        "model.add(Conv2D(64,(3,3), activation= 'linear', padding= 'same'))\n",
        "model.add(LeakyReLU(alpha= 0.1))\n",
        "model.add(MaxPooling2D((2,2), padding= 'same'))\n",
        "\n",
        "model.add(Conv2D(128,(3,3), activation= 'linear', padding= 'same'))\n",
        "model.add(LeakyReLU(alpha= 0.1))\n",
        "model.add(MaxPooling2D((2,2), padding= 'same'))\n",
        "\n",
        "model.add(Flatten())\n",
        "model.add(Dense(128, activation= 'linear'))\n",
        "model.add(LeakyReLU(alpha= 0.1))\n",
        "model.add(Dense(classes, activation= 'softmax'))\n",
        "model.summary()"
      ],
      "metadata": {
        "colab": {
          "base_uri": "https://localhost:8080/"
        },
        "id": "-aNAAWkKUPtY",
        "outputId": "64f8589c-0aea-4659-b78e-14220d3981d1"
      },
      "execution_count": null,
      "outputs": [
        {
          "output_type": "stream",
          "name": "stdout",
          "text": [
            "Model: \"sequential\"\n",
            "_________________________________________________________________\n",
            " Layer (type)                Output Shape              Param #   \n",
            "=================================================================\n",
            " conv2d (Conv2D)             (None, 64, 64, 32)        896       \n",
            "                                                                 \n",
            " leaky_re_lu (LeakyReLU)     (None, 64, 64, 32)        0         \n",
            "                                                                 \n",
            " max_pooling2d (MaxPooling2D  (None, 32, 32, 32)       0         \n",
            " )                                                               \n",
            "                                                                 \n",
            " conv2d_1 (Conv2D)           (None, 32, 32, 64)        18496     \n",
            "                                                                 \n",
            " leaky_re_lu_1 (LeakyReLU)   (None, 32, 32, 64)        0         \n",
            "                                                                 \n",
            " max_pooling2d_1 (MaxPooling  (None, 16, 16, 64)       0         \n",
            " 2D)                                                             \n",
            "                                                                 \n",
            " conv2d_2 (Conv2D)           (None, 16, 16, 128)       73856     \n",
            "                                                                 \n",
            " leaky_re_lu_2 (LeakyReLU)   (None, 16, 16, 128)       0         \n",
            "                                                                 \n",
            " max_pooling2d_2 (MaxPooling  (None, 8, 8, 128)        0         \n",
            " 2D)                                                             \n",
            "                                                                 \n",
            " flatten (Flatten)           (None, 8192)              0         \n",
            "                                                                 \n",
            " dense (Dense)               (None, 128)               1048704   \n",
            "                                                                 \n",
            " leaky_re_lu_3 (LeakyReLU)   (None, 128)               0         \n",
            "                                                                 \n",
            " dense_1 (Dense)             (None, 3)                 387       \n",
            "                                                                 \n",
            "=================================================================\n",
            "Total params: 1,142,339\n",
            "Trainable params: 1,142,339\n",
            "Non-trainable params: 0\n",
            "_________________________________________________________________\n"
          ]
        }
      ]
    },
    {
      "cell_type": "code",
      "source": [
        "from keras.losses import categorical_crossentropy\n",
        "model.compile(optimizer= Adam(), loss= categorical_crossentropy, metrics= ['accuracy'])\n",
        "train = model.fit(train_X, train_Y, epochs= epochs, batch_size= batch_size, verbose= 1)"
      ],
      "metadata": {
        "colab": {
          "base_uri": "https://localhost:8080/"
        },
        "id": "dN_UQ2tZUTj3",
        "outputId": "35c21a37-4d02-4c60-8dcb-f49ce1c2c219"
      },
      "execution_count": null,
      "outputs": [
        {
          "output_type": "stream",
          "name": "stdout",
          "text": [
            "Epoch 1/100\n",
            "16/16 [==============================] - 9s 7ms/step - loss: 0.6819 - accuracy: 0.5437\n",
            "Epoch 2/100\n",
            "16/16 [==============================] - 0s 5ms/step - loss: 0.2056 - accuracy: 0.9250\n",
            "Epoch 3/100\n",
            "16/16 [==============================] - 0s 5ms/step - loss: 0.1692 - accuracy: 0.9563\n",
            "Epoch 4/100\n",
            "16/16 [==============================] - 0s 5ms/step - loss: 0.0605 - accuracy: 0.9750\n",
            "Epoch 5/100\n",
            "16/16 [==============================] - 0s 5ms/step - loss: 0.0721 - accuracy: 0.9750\n",
            "Epoch 6/100\n",
            "16/16 [==============================] - 0s 5ms/step - loss: 0.0299 - accuracy: 0.9937\n",
            "Epoch 7/100\n",
            "16/16 [==============================] - 0s 5ms/step - loss: 0.0182 - accuracy: 0.9937\n",
            "Epoch 8/100\n",
            "16/16 [==============================] - 0s 5ms/step - loss: 0.0053 - accuracy: 1.0000\n",
            "Epoch 9/100\n",
            "16/16 [==============================] - 0s 5ms/step - loss: 0.0036 - accuracy: 1.0000\n",
            "Epoch 10/100\n",
            "16/16 [==============================] - 0s 5ms/step - loss: 0.0060 - accuracy: 0.9937\n",
            "Epoch 11/100\n",
            "16/16 [==============================] - 0s 4ms/step - loss: 0.0265 - accuracy: 0.9875\n",
            "Epoch 12/100\n",
            "16/16 [==============================] - 0s 4ms/step - loss: 0.0026 - accuracy: 1.0000\n",
            "Epoch 13/100\n",
            "16/16 [==============================] - 0s 5ms/step - loss: 3.8662e-04 - accuracy: 1.0000\n",
            "Epoch 14/100\n",
            "16/16 [==============================] - 0s 4ms/step - loss: 1.9959e-04 - accuracy: 1.0000\n",
            "Epoch 15/100\n",
            "16/16 [==============================] - 0s 5ms/step - loss: 1.0193e-04 - accuracy: 1.0000\n",
            "Epoch 16/100\n",
            "16/16 [==============================] - 0s 5ms/step - loss: 7.3121e-05 - accuracy: 1.0000\n",
            "Epoch 17/100\n",
            "16/16 [==============================] - 0s 5ms/step - loss: 6.0154e-05 - accuracy: 1.0000\n",
            "Epoch 18/100\n",
            "16/16 [==============================] - 0s 5ms/step - loss: 5.0459e-05 - accuracy: 1.0000\n",
            "Epoch 19/100\n",
            "16/16 [==============================] - 0s 5ms/step - loss: 4.3803e-05 - accuracy: 1.0000\n",
            "Epoch 20/100\n",
            "16/16 [==============================] - 0s 4ms/step - loss: 3.8683e-05 - accuracy: 1.0000\n",
            "Epoch 21/100\n",
            "16/16 [==============================] - 0s 4ms/step - loss: 3.4203e-05 - accuracy: 1.0000\n",
            "Epoch 22/100\n",
            "16/16 [==============================] - 0s 4ms/step - loss: 3.0660e-05 - accuracy: 1.0000\n",
            "Epoch 23/100\n",
            "16/16 [==============================] - 0s 5ms/step - loss: 2.7865e-05 - accuracy: 1.0000\n",
            "Epoch 24/100\n",
            "16/16 [==============================] - 0s 4ms/step - loss: 2.5068e-05 - accuracy: 1.0000\n",
            "Epoch 25/100\n",
            "16/16 [==============================] - 0s 4ms/step - loss: 2.2990e-05 - accuracy: 1.0000\n",
            "Epoch 26/100\n",
            "16/16 [==============================] - 0s 4ms/step - loss: 2.0902e-05 - accuracy: 1.0000\n",
            "Epoch 27/100\n",
            "16/16 [==============================] - 0s 4ms/step - loss: 1.9415e-05 - accuracy: 1.0000\n",
            "Epoch 28/100\n",
            "16/16 [==============================] - 0s 5ms/step - loss: 1.7909e-05 - accuracy: 1.0000\n",
            "Epoch 29/100\n",
            "16/16 [==============================] - 0s 4ms/step - loss: 1.6606e-05 - accuracy: 1.0000\n",
            "Epoch 30/100\n",
            "16/16 [==============================] - 0s 4ms/step - loss: 1.5432e-05 - accuracy: 1.0000\n",
            "Epoch 31/100\n",
            "16/16 [==============================] - 0s 4ms/step - loss: 1.4464e-05 - accuracy: 1.0000\n",
            "Epoch 32/100\n",
            "16/16 [==============================] - 0s 4ms/step - loss: 1.3465e-05 - accuracy: 1.0000\n",
            "Epoch 33/100\n",
            "16/16 [==============================] - 0s 4ms/step - loss: 1.2683e-05 - accuracy: 1.0000\n",
            "Epoch 34/100\n",
            "16/16 [==============================] - 0s 5ms/step - loss: 1.1877e-05 - accuracy: 1.0000\n",
            "Epoch 35/100\n",
            "16/16 [==============================] - 0s 4ms/step - loss: 1.1150e-05 - accuracy: 1.0000\n",
            "Epoch 36/100\n",
            "16/16 [==============================] - 0s 4ms/step - loss: 1.0530e-05 - accuracy: 1.0000\n",
            "Epoch 37/100\n",
            "16/16 [==============================] - 0s 4ms/step - loss: 9.9581e-06 - accuracy: 1.0000\n",
            "Epoch 38/100\n",
            "16/16 [==============================] - 0s 5ms/step - loss: 9.4068e-06 - accuracy: 1.0000\n",
            "Epoch 39/100\n",
            "16/16 [==============================] - 0s 5ms/step - loss: 8.9382e-06 - accuracy: 1.0000\n",
            "Epoch 40/100\n",
            "16/16 [==============================] - 0s 4ms/step - loss: 8.4725e-06 - accuracy: 1.0000\n",
            "Epoch 41/100\n",
            "16/16 [==============================] - 0s 4ms/step - loss: 8.0665e-06 - accuracy: 1.0000\n",
            "Epoch 42/100\n",
            "16/16 [==============================] - 0s 5ms/step - loss: 7.6679e-06 - accuracy: 1.0000\n",
            "Epoch 43/100\n",
            "16/16 [==============================] - 0s 5ms/step - loss: 7.3081e-06 - accuracy: 1.0000\n",
            "Epoch 44/100\n",
            "16/16 [==============================] - 0s 5ms/step - loss: 7.0011e-06 - accuracy: 1.0000\n",
            "Epoch 45/100\n",
            "16/16 [==============================] - 0s 5ms/step - loss: 6.6905e-06 - accuracy: 1.0000\n",
            "Epoch 46/100\n",
            "16/16 [==============================] - 0s 5ms/step - loss: 6.3582e-06 - accuracy: 1.0000\n",
            "Epoch 47/100\n",
            "16/16 [==============================] - 0s 4ms/step - loss: 6.1138e-06 - accuracy: 1.0000\n",
            "Epoch 48/100\n",
            "16/16 [==============================] - 0s 5ms/step - loss: 5.8396e-06 - accuracy: 1.0000\n",
            "Epoch 49/100\n",
            "16/16 [==============================] - 0s 4ms/step - loss: 5.6221e-06 - accuracy: 1.0000\n",
            "Epoch 50/100\n",
            "16/16 [==============================] - 0s 4ms/step - loss: 5.3896e-06 - accuracy: 1.0000\n",
            "Epoch 51/100\n",
            "16/16 [==============================] - 0s 5ms/step - loss: 5.1617e-06 - accuracy: 1.0000\n",
            "Epoch 52/100\n",
            "16/16 [==============================] - 0s 4ms/step - loss: 4.9843e-06 - accuracy: 1.0000\n",
            "Epoch 53/100\n",
            "16/16 [==============================] - 0s 5ms/step - loss: 4.7713e-06 - accuracy: 1.0000\n",
            "Epoch 54/100\n",
            "16/16 [==============================] - 0s 4ms/step - loss: 4.6193e-06 - accuracy: 1.0000\n",
            "Epoch 55/100\n",
            "16/16 [==============================] - 0s 5ms/step - loss: 4.4367e-06 - accuracy: 1.0000\n",
            "Epoch 56/100\n",
            "16/16 [==============================] - 0s 5ms/step - loss: 4.2527e-06 - accuracy: 1.0000\n",
            "Epoch 57/100\n",
            "16/16 [==============================] - 0s 4ms/step - loss: 4.1149e-06 - accuracy: 1.0000\n",
            "Epoch 58/100\n",
            "16/16 [==============================] - 0s 5ms/step - loss: 3.9607e-06 - accuracy: 1.0000\n",
            "Epoch 59/100\n",
            "16/16 [==============================] - 0s 4ms/step - loss: 3.8444e-06 - accuracy: 1.0000\n",
            "Epoch 60/100\n",
            "16/16 [==============================] - 0s 4ms/step - loss: 3.7044e-06 - accuracy: 1.0000\n",
            "Epoch 61/100\n",
            "16/16 [==============================] - 0s 4ms/step - loss: 3.5770e-06 - accuracy: 1.0000\n",
            "Epoch 62/100\n",
            "16/16 [==============================] - 0s 5ms/step - loss: 3.4645e-06 - accuracy: 1.0000\n",
            "Epoch 63/100\n",
            "16/16 [==============================] - 0s 4ms/step - loss: 3.3453e-06 - accuracy: 1.0000\n",
            "Epoch 64/100\n",
            "16/16 [==============================] - 0s 4ms/step - loss: 3.2499e-06 - accuracy: 1.0000\n",
            "Epoch 65/100\n",
            "16/16 [==============================] - 0s 5ms/step - loss: 3.1396e-06 - accuracy: 1.0000\n",
            "Epoch 66/100\n",
            "16/16 [==============================] - 0s 4ms/step - loss: 3.0487e-06 - accuracy: 1.0000\n",
            "Epoch 67/100\n",
            "16/16 [==============================] - 0s 5ms/step - loss: 2.9631e-06 - accuracy: 1.0000\n",
            "Epoch 68/100\n",
            "16/16 [==============================] - 0s 6ms/step - loss: 2.8677e-06 - accuracy: 1.0000\n",
            "Epoch 69/100\n",
            "16/16 [==============================] - 0s 6ms/step - loss: 2.7887e-06 - accuracy: 1.0000\n",
            "Epoch 70/100\n",
            "16/16 [==============================] - 0s 6ms/step - loss: 2.6956e-06 - accuracy: 1.0000\n",
            "Epoch 71/100\n",
            "16/16 [==============================] - 0s 5ms/step - loss: 2.6263e-06 - accuracy: 1.0000\n",
            "Epoch 72/100\n",
            "16/16 [==============================] - 0s 5ms/step - loss: 2.5540e-06 - accuracy: 1.0000\n",
            "Epoch 73/100\n",
            "16/16 [==============================] - 0s 5ms/step - loss: 2.4877e-06 - accuracy: 1.0000\n",
            "Epoch 74/100\n",
            "16/16 [==============================] - 0s 5ms/step - loss: 2.4117e-06 - accuracy: 1.0000\n",
            "Epoch 75/100\n",
            "16/16 [==============================] - 0s 5ms/step - loss: 2.3544e-06 - accuracy: 1.0000\n",
            "Epoch 76/100\n",
            "16/16 [==============================] - 0s 5ms/step - loss: 2.2858e-06 - accuracy: 1.0000\n",
            "Epoch 77/100\n",
            "16/16 [==============================] - 0s 5ms/step - loss: 2.2284e-06 - accuracy: 1.0000\n",
            "Epoch 78/100\n",
            "16/16 [==============================] - 0s 6ms/step - loss: 2.1726e-06 - accuracy: 1.0000\n",
            "Epoch 79/100\n",
            "16/16 [==============================] - 0s 6ms/step - loss: 2.1100e-06 - accuracy: 1.0000\n",
            "Epoch 80/100\n",
            "16/16 [==============================] - 0s 6ms/step - loss: 2.0616e-06 - accuracy: 1.0000\n",
            "Epoch 81/100\n",
            "16/16 [==============================] - 0s 6ms/step - loss: 2.0034e-06 - accuracy: 1.0000\n",
            "Epoch 82/100\n",
            "16/16 [==============================] - 0s 6ms/step - loss: 1.9491e-06 - accuracy: 1.0000\n",
            "Epoch 83/100\n",
            "16/16 [==============================] - 0s 6ms/step - loss: 1.9029e-06 - accuracy: 1.0000\n",
            "Epoch 84/100\n",
            "16/16 [==============================] - 0s 6ms/step - loss: 1.8544e-06 - accuracy: 1.0000\n",
            "Epoch 85/100\n",
            "16/16 [==============================] - 0s 5ms/step - loss: 1.8127e-06 - accuracy: 1.0000\n",
            "Epoch 86/100\n",
            "16/16 [==============================] - 0s 5ms/step - loss: 1.7710e-06 - accuracy: 1.0000\n",
            "Epoch 87/100\n",
            "16/16 [==============================] - 0s 5ms/step - loss: 1.7218e-06 - accuracy: 1.0000\n",
            "Epoch 88/100\n",
            "16/16 [==============================] - 0s 5ms/step - loss: 1.6875e-06 - accuracy: 1.0000\n",
            "Epoch 89/100\n",
            "16/16 [==============================] - 0s 6ms/step - loss: 1.6443e-06 - accuracy: 1.0000\n",
            "Epoch 90/100\n",
            "16/16 [==============================] - 0s 6ms/step - loss: 1.6093e-06 - accuracy: 1.0000\n",
            "Epoch 91/100\n",
            "16/16 [==============================] - 0s 6ms/step - loss: 1.5691e-06 - accuracy: 1.0000\n",
            "Epoch 92/100\n",
            "16/16 [==============================] - 0s 6ms/step - loss: 1.5370e-06 - accuracy: 1.0000\n",
            "Epoch 93/100\n",
            "16/16 [==============================] - 0s 7ms/step - loss: 1.5020e-06 - accuracy: 1.0000\n",
            "Epoch 94/100\n",
            "16/16 [==============================] - 0s 6ms/step - loss: 1.4648e-06 - accuracy: 1.0000\n",
            "Epoch 95/100\n",
            "16/16 [==============================] - 0s 6ms/step - loss: 1.4290e-06 - accuracy: 1.0000\n",
            "Epoch 96/100\n",
            "16/16 [==============================] - 0s 5ms/step - loss: 1.3992e-06 - accuracy: 1.0000\n",
            "Epoch 97/100\n",
            "16/16 [==============================] - 0s 5ms/step - loss: 1.3672e-06 - accuracy: 1.0000\n",
            "Epoch 98/100\n",
            "16/16 [==============================] - 0s 5ms/step - loss: 1.3374e-06 - accuracy: 1.0000\n",
            "Epoch 99/100\n",
            "16/16 [==============================] - 0s 6ms/step - loss: 1.3128e-06 - accuracy: 1.0000\n",
            "Epoch 100/100\n",
            "16/16 [==============================] - 0s 5ms/step - loss: 1.2830e-06 - accuracy: 1.0000\n"
          ]
        }
      ]
    },
    {
      "cell_type": "code",
      "source": [
        "model.save('/content/drive/MyDrive/final/license_plate_cnn.h5')"
      ],
      "metadata": {
        "id": "BUzaBwgOUWPe"
      },
      "execution_count": null,
      "outputs": []
    }
  ]
}
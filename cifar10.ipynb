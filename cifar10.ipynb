{
  "nbformat": 4,
  "nbformat_minor": 0,
  "metadata": {
    "colab": {
      "provenance": [],
      "authorship_tag": "ABX9TyNkHPXPsBP/CalEM/kRS3w3",
      "include_colab_link": true
    },
    "kernelspec": {
      "name": "python3",
      "display_name": "Python 3"
    },
    "language_info": {
      "name": "python"
    }
  },
  "cells": [
    {
      "cell_type": "markdown",
      "metadata": {
        "id": "view-in-github",
        "colab_type": "text"
      },
      "source": [
        "<a href=\"https://colab.research.google.com/github/HoDinhKhanh/AI/blob/main/cifar10.ipynb\" target=\"_parent\"><img src=\"https://colab.research.google.com/assets/colab-badge.svg\" alt=\"Open In Colab\"/></a>"
      ]
    },
    {
      "cell_type": "code",
      "execution_count": 118,
      "metadata": {
        "id": "_Kax9DD4Ej6G"
      },
      "outputs": [],
      "source": [
        "from keras.datasets import cifar10\n",
        "from keras.models import Sequential\n",
        "import numpy as np\n",
        "import pandas as pd\n",
        "import matplotlib.pyplot as plt\n",
        "import seaborn as sns"
      ]
    },
    {
      "cell_type": "code",
      "source": [
        "(x_train,y_train),(x_test,y_test) = cifar10.load_data()"
      ],
      "metadata": {
        "id": "1NOUQZHuEk7Y"
      },
      "execution_count": 119,
      "outputs": []
    },
    {
      "cell_type": "code",
      "source": [
        "x_train.shape"
      ],
      "metadata": {
        "colab": {
          "base_uri": "https://localhost:8080/"
        },
        "id": "I69n0UulEuph",
        "outputId": "3faeb9d1-0250-475c-ebd5-bffecd6513a6"
      },
      "execution_count": 120,
      "outputs": [
        {
          "output_type": "execute_result",
          "data": {
            "text/plain": [
              "(50000, 32, 32, 3)"
            ]
          },
          "metadata": {},
          "execution_count": 120
        }
      ]
    },
    {
      "cell_type": "code",
      "source": [
        "y_train.shape"
      ],
      "metadata": {
        "colab": {
          "base_uri": "https://localhost:8080/"
        },
        "id": "79Q8X0IKGL5W",
        "outputId": "d290716e-4369-4ca8-bf17-2bfc29a117b6"
      },
      "execution_count": 121,
      "outputs": [
        {
          "output_type": "execute_result",
          "data": {
            "text/plain": [
              "(50000, 1)"
            ]
          },
          "metadata": {},
          "execution_count": 121
        }
      ]
    },
    {
      "cell_type": "code",
      "source": [
        "x_test.shape"
      ],
      "metadata": {
        "colab": {
          "base_uri": "https://localhost:8080/"
        },
        "id": "2SmQ2typGTL_",
        "outputId": "a852c638-29a8-4ddb-898b-9c3db2c604f3"
      },
      "execution_count": 122,
      "outputs": [
        {
          "output_type": "execute_result",
          "data": {
            "text/plain": [
              "(10000, 32, 32, 3)"
            ]
          },
          "metadata": {},
          "execution_count": 122
        }
      ]
    },
    {
      "cell_type": "code",
      "source": [
        "y_test.shape"
      ],
      "metadata": {
        "colab": {
          "base_uri": "https://localhost:8080/"
        },
        "id": "9BDA9SWfGWrp",
        "outputId": "720aeabc-5b47-4b57-c56b-46382a85708d"
      },
      "execution_count": 123,
      "outputs": [
        {
          "output_type": "execute_result",
          "data": {
            "text/plain": [
              "(10000, 1)"
            ]
          },
          "metadata": {},
          "execution_count": 123
        }
      ]
    },
    {
      "cell_type": "code",
      "source": [
        "import matplotlib.pyplot as plt\n",
        "hinh = x_train[300]\n",
        "plt.imshow(hinh, cmap = plt.cm.binary)\n",
        "plt.show\n",
        "print('Hinh1', y_train[100])"
      ],
      "metadata": {
        "colab": {
          "base_uri": "https://localhost:8080/",
          "height": 283
        },
        "id": "AprwfS3iHT3_",
        "outputId": "eb457853-80df-4d57-a635-d57aa7dd5042"
      },
      "execution_count": 124,
      "outputs": [
        {
          "output_type": "stream",
          "name": "stdout",
          "text": [
            "Hinh1 [8]\n"
          ]
        },
        {
          "output_type": "display_data",
          "data": {
            "text/plain": [
              "<Figure size 432x288 with 1 Axes>"
            ],
            "image/png": "[encoded data removed]"
          },
          "metadata": {
            "needs_background": "light"
          }
        }
      ]
    },
    {
      "cell_type": "code",
      "source": [
        "import matplotlib.pyplot as plt\n",
        "for i in range(10):\n",
        "  plt.subplot(3,5, i+1)\n",
        "  plt.tight_layout()\n",
        "  plt.imshow(x_train[i], cmap = 'gray', interpolation = 'none')\n",
        "  plt.title('Hinh'.format(y_train[i]))\n",
        "\n",
        "  plt.xticks([])\n",
        "  plt.yticks([])"
      ],
      "metadata": {
        "colab": {
          "base_uri": "https://localhost:8080/",
          "height": 196
        },
        "id": "KNPUJBVEG8U9",
        "outputId": "206bee67-0abd-4d52-d0cb-588c16c2491f"
      },
      "execution_count": 125,
      "outputs": [
        {
          "output_type": "display_data",
          "data": {
            "text/plain": [
              "<Figure size 432x288 with 10 Axes>"
            ],
            "image/png": "[encoded data removed]"
          },
          "metadata": {}
        }
      ]
    },
    {
      "cell_type": "code",
      "source": [
        "from keras.models import Sequential\n",
        "from keras.layers import Dense\n",
        "\n",
        "model= Sequential()\n",
        "model.add(Dense(512, input_shape = (32*32*3,), activation = 'relu'))\n",
        "model.add(Dense(10,activation= 'softmax'))\n",
        "model.summary()"
      ],
      "metadata": {
        "colab": {
          "base_uri": "https://localhost:8080/"
        },
        "id": "DyAVClCAGa9W",
        "outputId": "401a3f7d-5a1a-4c1b-a4b9-9285fca97b3e"
      },
      "execution_count": 126,
      "outputs": [
        {
          "output_type": "stream",
          "name": "stdout",
          "text": [
            "Model: \"sequential_10\"\n",
            "_________________________________________________________________\n",
            " Layer (type)                Output Shape              Param #   \n",
            "=================================================================\n",
            " dense_20 (Dense)            (None, 512)               1573376   \n",
            "                                                                 \n",
            " dense_21 (Dense)            (None, 10)                5130      \n",
            "                                                                 \n",
            "=================================================================\n",
            "Total params: 1,578,506\n",
            "Trainable params: 1,578,506\n",
            "Non-trainable params: 0\n",
            "_________________________________________________________________\n"
          ]
        }
      ]
    },
    {
      "cell_type": "code",
      "source": [
        "x_train = x_train.reshape((50000,32*32*3))\n",
        "x_train = x_train.astype('float32')/255\n",
        "x_test = x_test.reshape((10000,32*32*3))\n",
        "x_test = x_test.astype('float32')/255"
      ],
      "metadata": {
        "id": "qPGGn-SsGjKQ"
      },
      "execution_count": 127,
      "outputs": []
    },
    {
      "cell_type": "code",
      "source": [
        "from keras.utils import to_categorical #Lệnh chuyển qua \n",
        "\n",
        "y_train = to_categorical(y_train, 10) #chuyển sang 10 kênh\n",
        "y_test = to_categorical(y_test, 10)"
      ],
      "metadata": {
        "id": "ItPdoqJFHAOJ"
      },
      "execution_count": 128,
      "outputs": []
    },
    {
      "cell_type": "code",
      "source": [
        "model.compile(optimizer='rmsprop',loss='categorical_crossentropy',metrics=['accuracy'])\n",
        "model.fit(x_train,y_train,epochs = 10, batch_size= 128) # Mỗi lần học chỉ 128 dữ liệu, không học hết 60000 dữ liệu , học tổng cộng 10 lầnlần\n",
        "test_loss, test_acc = model.evaluate(x_test,y_test)\n",
        "print('test_accuracy:',test_acc)\n",
        "print('test_loss:',test_loss)"
      ],
      "metadata": {
        "colab": {
          "base_uri": "https://localhost:8080/"
        },
        "id": "mwCXX_VYJO28",
        "outputId": "5ad0ed70-a1fb-4d71-861a-bab7445e214f"
      },
      "execution_count": 129,
      "outputs": [
        {
          "output_type": "stream",
          "name": "stdout",
          "text": [
            "Epoch 1/10\n",
            "391/391 [==============================] - 11s 28ms/step - loss: 2.3368 - accuracy: 0.2587\n",
            "Epoch 2/10\n",
            "391/391 [==============================] - 11s 28ms/step - loss: 1.8024 - accuracy: 0.3591\n",
            "Epoch 3/10\n",
            "391/391 [==============================] - 11s 28ms/step - loss: 1.7152 - accuracy: 0.3903\n",
            "Epoch 4/10\n",
            "391/391 [==============================] - 11s 28ms/step - loss: 1.6577 - accuracy: 0.4107\n",
            "Epoch 5/10\n",
            "391/391 [==============================] - 11s 28ms/step - loss: 1.6154 - accuracy: 0.4269\n",
            "Epoch 6/10\n",
            "391/391 [==============================] - 10s 25ms/step - loss: 1.5843 - accuracy: 0.4393\n",
            "Epoch 7/10\n",
            "391/391 [==============================] - 11s 28ms/step - loss: 1.5568 - accuracy: 0.4477\n",
            "Epoch 8/10\n",
            "391/391 [==============================] - 11s 28ms/step - loss: 1.5339 - accuracy: 0.4553\n",
            "Epoch 9/10\n",
            "391/391 [==============================] - 11s 28ms/step - loss: 1.5132 - accuracy: 0.4648\n",
            "Epoch 10/10\n",
            "391/391 [==============================] - 11s 28ms/step - loss: 1.4966 - accuracy: 0.4714\n",
            "313/313 [==============================] - 1s 4ms/step - loss: 1.5640 - accuracy: 0.4498\n",
            "test_accuracy: 0.4498000144958496\n",
            "test_loss: 1.564026117324829\n"
          ]
        }
      ]
    },
    {
      "cell_type": "code",
      "source": [
        "from keras.utils import load_img\n",
        "import matplotlib.pyplot as plt\n",
        "\n",
        "img = load_img('20230326_105338.jpg',target_size=(32,32))\n",
        "plt.imshow(img)\n",
        "\n",
        "import numpy as np\n",
        "from keras.utils.image_utils import img_to_array\n",
        "img = img_to_array(img)\n",
        "img = img.reshape(1,32*32*3)\n",
        "img = img.astype('float32')\n",
        "img = img/255\n",
        "np.argmax(model.predict(img), axis=-1)"
      ],
      "metadata": {
        "colab": {
          "base_uri": "https://localhost:8080/",
          "height": 301
        },
        "id": "wZyewYPTJbXi",
        "outputId": "7b91d70d-1987-4b73-97a5-f23847641b24"
      },
      "execution_count": 132,
      "outputs": [
        {
          "output_type": "stream",
          "name": "stdout",
          "text": [
            "1/1 [==============================] - 0s 33ms/step\n"
          ]
        },
        {
          "output_type": "execute_result",
          "data": {
            "text/plain": [
              "array([5])"
            ]
          },
          "metadata": {},
          "execution_count": 132
        },
        {
          "output_type": "display_data",
          "data": {
            "text/plain": [
              "<Figure size 432x288 with 1 Axes>"
            ],
            "image/png": "[encoded data removed]"
          },
          "metadata": {
            "needs_background": "light"
          }
        }
      ]
    },
    {
      "cell_type": "code",
      "source": [],
      "metadata": {
        "id": "JcLMwCk6NwDc"
      },
      "execution_count": 130,
      "outputs": []
    }
  ]
}